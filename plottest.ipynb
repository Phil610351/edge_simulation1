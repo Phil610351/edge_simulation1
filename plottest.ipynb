{
 "cells": [
  {
   "cell_type": "code",
   "execution_count": 88,
   "metadata": {},
   "outputs": [],
   "source": [
    "from simulator.reporters import TransitionReporter\n",
    "from simulator.core import Task\n",
    "import pandas as pd\n",
    "import matplotlib.pyplot as plt\n",
    "import numpy as np"
   ]
  },
  {
   "cell_type": "code",
   "execution_count": 89,
   "metadata": {},
   "outputs": [],
   "source": [
    "report = TransitionReporter.getListFromPickle(\"reports/reportmobiledql3.pkl\")\n",
    "report2 = TransitionReporter.getListFromPickle(\"reports/reportmobiledql2.pkl\")"
   ]
  },
  {
   "cell_type": "code",
   "execution_count": 90,
   "metadata": {},
   "outputs": [],
   "source": [
    "pandasList = []\n",
    "for item in report:\n",
    "    pandasList.append([item.task.id(), item.task.arrivalTime(), item.delay, item.powerConsumtion, item.action, item.task.hopLimit()])\n",
    "    \n",
    "pandasList2 = []\n",
    "for item in report2:\n",
    "    pandasList2.append([item.task.id(), item.task.arrivalTime(), item.delay, item.powerConsumtion, item.action, item.task.hopLimit()])"
   ]
  },
  {
   "cell_type": "code",
   "execution_count": 91,
   "metadata": {},
   "outputs": [],
   "source": [
    "df = pd.DataFrame(pandasList, columns = [\"taskid\", \"arrival\", \"delay\", \"power\", \"action\", \"hopLimit\"])\n",
    "df2 = pd.DataFrame(pandasList2, columns = [\"taskid\", \"arrival\", \"delay\", \"power\", \"action\", \"hopLimit\"])"
   ]
  },
  {
   "cell_type": "code",
   "execution_count": 109,
   "metadata": {},
   "outputs": [],
   "source": [
    "data = df.loc[:, [\"power\"]].groupby(\n",
    "        pd.cut(df[\"power\"], np.arange(0.0, 5, 0.01))).count()\n",
    "data.index = pd.IntervalIndex(data.index.get_level_values('power')).right\n",
    "\n",
    "data2 = df2.loc[:, [\"power\"]].groupby(\n",
    "        pd.cut(df2[\"power\"], np.arange(0.0, 5, 0.01))).count()\n",
    "data2.index = pd.IntervalIndex(data2.index.get_level_values('power')).right"
   ]
  },
  {
   "cell_type": "code",
   "execution_count": 110,
   "metadata": {},
   "outputs": [
    {
     "data": {
      "text/plain": [
       "[<matplotlib.lines.Line2D at 0x13768c31bb0>]"
      ]
     },
     "execution_count": 110,
     "metadata": {},
     "output_type": "execute_result"
    },
    {
     "data": {
      "image/png": "[encoded data removed]",
      "text/plain": [
       "<Figure size 432x288 with 1 Axes>"
      ]
     },
     "metadata": {
      "needs_background": "light"
     },
     "output_type": "display_data"
    }
   ],
   "source": [
    "plt.plot(data)\n",
    "plt.plot(data2)"
   ]
  },
  {
   "cell_type": "code",
   "execution_count": 108,
   "metadata": {},
   "outputs": [
    {
     "data": {
      "text/plain": [
       "power    5305\n",
       "dtype: int64"
      ]
     },
     "execution_count": 108,
     "metadata": {},
     "output_type": "execute_result"
    }
   ],
   "source": [
    "data2.sum()"
   ]
  }
 ],
 "metadata": {
  "interpreter": {
   "hash": "6931a9a621d8ff6d07958d162f21a10a58d4e8c949ccb5bafc32b10cd7b79477"
  },
  "kernelspec": {
   "display_name": "Python 3.9.10 64-bit",
   "language": "python",
   "name": "python3"
  },
  "language_info": {
   "codemirror_mode": {
    "name": "ipython",
    "version": 3
   },
   "file_extension": ".py",
   "mimetype": "text/x-python",
   "name": "python",
   "nbconvert_exporter": "python",
   "pygments_lexer": "ipython3",
   "version": "3.9.10"
  },
  "orig_nbformat": 4
 },
 "nbformat": 4,
 "nbformat_minor": 2
}
