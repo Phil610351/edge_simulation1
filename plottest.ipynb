{
 "cells": [
  {
   "cell_type": "code",
   "execution_count": 18,
   "metadata": {},
   "outputs": [],
   "source": [
    "\n",
    "from simulator.reporters import TransitionReporter\n",
    "from simulator.core import Task\n",
    "import pandas as pd\n",
    "import matplotlib.pyplot as plt\n",
    "import numpy as np\n",
    "import json\n",
    "from simulator import Config"
   ]
  },
  {
   "cell_type": "code",
   "execution_count": 19,
   "metadata": {},
   "outputs": [],
   "source": [
    "def loadDataframe(batchId: str) -> pd.DataFrame:\n",
    "    reportMap = None\n",
    "    with open(\n",
    "        \"results/reportMaps/reportMap{id}.json\".format(id = batchId),\n",
    "        \"r\") as reportFile:\n",
    "        reportMap = json.load(reportFile)\n",
    "    \n",
    "    # Finding all config changes\n",
    "    configList = set()\n",
    "    for report in reportMap:\n",
    "        varients = report[\"varient\"]\n",
    "        for varient in varients:\n",
    "            configList.add(varient[\"config\"])\n",
    "            \n",
    "    tupleTemplate = {}\n",
    "    for config in configList:\n",
    "        tupleTemplate[config] = Config.get(config)\n",
    "        tupleTemplate[config + \"_default\"] = True\n",
    "    print(tupleTemplate)\n",
    "    \n",
    "    tupleList = []\n",
    "    for report in reportMap:\n",
    "        reportTupleTemplate = tupleTemplate.copy()\n",
    "        runId = report[\"runId\"]\n",
    "        varients = report[\"varient\"]\n",
    "        for varient in varients:\n",
    "            config = varient[\"config\"]\n",
    "            reportTupleTemplate[config] = varient[\"value\"]\n",
    "            reportTupleTemplate[config + \"_default\"] = False\n",
    "        reportTupleTemplate[\"run_id\"] = runId\n",
    "        \n",
    "        mobileReport = TransitionReporter.getListFromPickle(\"results/report/{batchId}/reportmobile{runId}.pkl\".format(batchId = batchId, runId = runId))\n",
    "        for item in mobileReport:\n",
    "            tuple = reportTupleTemplate.copy()\n",
    "            tuple[\"task_id\"] = item.task.id()\n",
    "            tuple[\"arrival_time\"] = item.task.arrivalTime()\n",
    "            tuple[\"delay\"] = item.delay\n",
    "            tuple[\"power\"] = item.powerConsumtion\n",
    "            tuple[\"reward\"] = item.reward\n",
    "            tuple[\"action\"] = item.action\n",
    "            tuple[\"hopLimit\"] = item.task.hopLimit()\n",
    "            tupleList.append(tuple)\n",
    "            \n",
    "    df = pd.DataFrame(tupleList)\n",
    "    # unify action values\n",
    "    df[\"action\"] = df[\"action\"].apply(lambda x: 0 if (\"0\" in str(x)) else (1 if (\"1\" in str(x)) else x))\n",
    "    \n",
    "    return df"
   ]
  },
  {
   "cell_type": "code",
   "execution_count": 20,
   "metadata": {},
   "outputs": [
    {
     "name": "stdout",
     "output_type": "stream",
     "text": [
      "{'boxworld_mobile_nodes': 50, 'boxworld_mobile_nodes_default': True, 'task_generator_lambda': 0.5, 'task_generator_lambda_default': True, 'edge_selector': 'dql', 'edge_selector_default': True, 'mobile_selector': 'dql', 'mobile_selector_default': True}\n"
     ]
    }
   ],
   "source": [
    "df = loadDataframe(\"A\")"
   ]
  },
  {
   "cell_type": "code",
   "execution_count": 21,
   "metadata": {},
   "outputs": [
    {
     "data": {
      "text/plain": [
       "<matplotlib.legend.Legend at 0x163251de220>"
      ]
     },
     "execution_count": 21,
     "metadata": {},
     "output_type": "execute_result"
    },
    {
     "data": {
      "image/png": "[encoded data removed]",
      "text/plain": [
       "<Figure size 432x288 with 1 Axes>"
      ]
     },
     "metadata": {
      "needs_background": "light"
     },
     "output_type": "display_data"
    }
   ],
   "source": [
    "vairable_conditions = {\n",
    "    \"deep q-learning\": (df[\"mobile_selector\"] == \"dql_remote\") & (df[\"edge_selector\"] == \"dql\"),\n",
    "    \"greedy\": (df[\"mobile_selector\"] == \"greedy\") & (df[\"edge_selector\"] == \"greedy\")\n",
    "}\n",
    "vairable_conditions1 = {\n",
    "    \"50\": (df[\"boxworld_mobile_nodes\"] == 50) & (df[\"mobile_selector\"] == \"dql\") & (df[\"edge_selector\"] == \"dql\"),\n",
    "    \"100\": (df[\"boxworld_mobile_nodes\"] == 100) & (df[\"mobile_selector\"] == \"dql\") & (df[\"edge_selector\"] == \"dql\"),\n",
    "    \"150\": (df[\"boxworld_mobile_nodes\"] == 150) & (df[\"mobile_selector\"] == \"dql\") & (df[\"edge_selector\"] == \"dql\"),\n",
    "    \"200\": (df[\"boxworld_mobile_nodes\"] == 200) & (df[\"mobile_selector\"] == \"dql\") & (df[\"edge_selector\"] == \"dql\"),\n",
    "    \"300\": (df[\"boxworld_mobile_nodes\"] == 300) & (df[\"mobile_selector\"] == \"dql\") & (df[\"edge_selector\"] == \"dql\"),\n",
    "    \"400\": (df[\"boxworld_mobile_nodes\"] == 400) & (df[\"mobile_selector\"] == \"dql\") & (df[\"edge_selector\"] == \"dql\")\n",
    "}\n",
    "vairable_conditions2 = {\n",
    "    \"50\": (df[\"boxworld_mobile_nodes\"] == 50) & (df[\"mobile_selector\"] == \"greedy\") & (df[\"edge_selector\"] == \"greedy\"),\n",
    "    \"100\": (df[\"boxworld_mobile_nodes\"] == 100) & (df[\"mobile_selector\"] == \"greedy\") & (df[\"edge_selector\"] == \"greedy\"),\n",
    "    \"150\": (df[\"boxworld_mobile_nodes\"] == 150) & (df[\"mobile_selector\"] == \"greedy\") & (df[\"edge_selector\"] == \"greedy\"),\n",
    "    \"200\": (df[\"boxworld_mobile_nodes\"] == 200) & (df[\"mobile_selector\"] == \"greedy\") & (df[\"edge_selector\"] == \"greedy\"),\n",
    "    \"300\": (df[\"boxworld_mobile_nodes\"] == 300) & (df[\"mobile_selector\"] == \"greedy\") & (df[\"edge_selector\"] == \"greedy\"),\n",
    "    \"400\": (df[\"boxworld_mobile_nodes\"] == 400) & (df[\"mobile_selector\"] == \"greedy\") & (df[\"edge_selector\"] == \"greedy\")\n",
    "}\n",
    "vairable_conditions3 = {\n",
    "    \"greedy\": (df[\"boxworld_mobile_nodes\"] == 100) & (df[\"mobile_selector\"] == \"greedy\") & (df[\"edge_selector\"] == \"greedy\") & \n",
    "    (df[\"task_generator_lambda\"] == 0.5),\n",
    "    \"dql\": (df[\"boxworld_mobile_nodes\"] == 100) & (df[\"mobile_selector\"] == \"dql_remote\") & (df[\"edge_selector\"] == \"dql\") & \n",
    "    (df[\"task_generator_lambda\"] == 0.5)\n",
    "}\n",
    "graphs = {}\n",
    "for key, value in vairable_conditions.items():\n",
    "    item_condition = value\n",
    "    data = df.loc[item_condition, [\"delay\"]].groupby(\n",
    "        pd.cut(df[\"arrival_time\"], np.arange(0, 300, 5))).mean()\n",
    "    data.index = pd.IntervalIndex(data.index.get_level_values('arrival_time')).right\n",
    "    graphs[key] = data\n",
    "\n",
    "for key, data in graphs.items():\n",
    "    plt.plot(data)\n",
    "\n",
    "plt.ylabel('average delay per task(seconds)')\n",
    "plt.xlabel('task arrival time(seconds)')\n",
    "plt.legend(graphs.keys(), loc='upper left')"
   ]
  }
 ],
 "metadata": {
  "kernelspec": {
   "display_name": "Python 3.9.12 ('base')",
   "language": "python",
   "name": "python3"
  },
  "language_info": {
   "codemirror_mode": {
    "name": "ipython",
    "version": 3
   },
   "file_extension": ".py",
   "mimetype": "text/x-python",
   "name": "python",
   "nbconvert_exporter": "python",
   "pygments_lexer": "ipython3",
   "version": "3.9.12"
  },
  "orig_nbformat": 4,
  "vscode": {
   "interpreter": {
    "hash": "2b89e4666a1b1f5f90ada5928a1b04d9ad859bf674b23c56e0417352230a6456"
   }
  }
 },
 "nbformat": 4,
 "nbformat_minor": 2
}
