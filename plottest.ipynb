{
 "cells": [
  {
   "cell_type": "code",
   "execution_count": 25,
   "metadata": {},
   "outputs": [],
   "source": [
    "\n",
    "from simulator.reporters import TransitionReporter\n",
    "from simulator.core import Task\n",
    "import pandas as pd\n",
    "import matplotlib.pyplot as plt\n",
    "import numpy as np\n",
    "import json\n",
    "from simulator import Config"
   ]
  },
  {
   "cell_type": "code",
   "execution_count": 26,
   "metadata": {},
   "outputs": [],
   "source": [
    "def loadDataframe(reportMapPath: str) -> pd.DataFrame:\n",
    "    reportMap = None\n",
    "    with open(\"results/reportMaps/\" + reportMapPath, \"r\") as reportFile:\n",
    "        reportMap = json.load(reportFile)\n",
    "    \n",
    "    # Finding all config changes\n",
    "    configList = set()\n",
    "    for report in reportMap:\n",
    "        varients = report[\"varient\"]\n",
    "        for varient in varients:\n",
    "            configList.add(varient[\"config\"])\n",
    "            \n",
    "    tupleTemplate = {}\n",
    "    for config in configList:\n",
    "        tupleTemplate[config] = Config.get(config)\n",
    "        tupleTemplate[config + \"_default\"] = True\n",
    "    print(tupleTemplate)\n",
    "    \n",
    "    tupleList = []\n",
    "    for report in reportMap:\n",
    "        reportTupleTemplate = tupleTemplate.copy()\n",
    "        runId = report[\"runId\"]\n",
    "        varients = report[\"varient\"]\n",
    "        for varient in varients:\n",
    "            config = varient[\"config\"]\n",
    "            reportTupleTemplate[config] = varient[\"value\"]\n",
    "            reportTupleTemplate[config + \"_default\"] = False\n",
    "        \n",
    "        mobileReport = TransitionReporter.getListFromPickle(\"results/reports/reportmobile\" + runId + \".pkl\")\n",
    "        for item in mobileReport:\n",
    "            tuple = reportTupleTemplate.copy()\n",
    "            tuple[\"task_id\"] = item.task.id()\n",
    "            tuple[\"arrival_time\"] = item.task.arrivalTime()\n",
    "            tuple[\"delay\"] = item.delay\n",
    "            tuple[\"power\"] = item.powerConsumtion\n",
    "            tuple[\"action\"] = item.action\n",
    "            tuple[\"hopLimit\"] = item.task.hopLimit()\n",
    "            tupleList.append(tuple)\n",
    "            \n",
    "    df = pd.DataFrame(tupleList)\n",
    "    # unify action values\n",
    "    df[\"action\"] = df[\"action\"].apply(lambda x: 0 if (\"0\" in str(x)) else (1 if (\"1\" in str(x)) else x))\n",
    "    \n",
    "    return df"
   ]
  },
  {
   "cell_type": "code",
   "execution_count": 27,
   "metadata": {},
   "outputs": [
    {
     "name": "stdout",
     "output_type": "stream",
     "text": [
      "{'edge_selector': 'dql', 'edge_selector_default': True, 'boxworld_mobile_nodes': 50, 'boxworld_mobile_nodes_default': True, 'mobile_selector': 'dql', 'mobile_selector_default': True, 'dql_learning_discount': 0.8, 'dql_learning_discount_default': True, 'task_generation_duration': 100, 'task_generation_duration_default': True, 'dql_training_interval': 100, 'dql_training_interval_default': True}\n"
     ]
    }
   ],
   "source": [
    "df = loadDataframe(\"reportMap1.json\")"
   ]
  },
  {
   "cell_type": "code",
   "execution_count": 28,
   "metadata": {},
   "outputs": [
    {
     "data": {
      "text/plain": [
       "<matplotlib.legend.Legend at 0x27b58969c10>"
      ]
     },
     "execution_count": 28,
     "metadata": {},
     "output_type": "execute_result"
    },
    {
     "data": {
      "image/png": "[encoded data removed]",
      "text/plain": [
       "<Figure size 432x288 with 1 Axes>"
      ]
     },
     "metadata": {
      "needs_background": "light"
     },
     "output_type": "display_data"
    }
   ],
   "source": [
    "vairable_conditions = {\n",
    "    \"deep q-learning\": (df[\"mobile_selector\"] == \"dql\") & (df[\"edge_selector\"] == \"dql\"),\n",
    "    \"greedy\": (df[\"mobile_selector\"] == \"greedy\") & (df[\"edge_selector\"] == \"greedy\")\n",
    "}\n",
    "graphs = {}\n",
    "for key, value in vairable_conditions.items():\n",
    "    item_condition = value\n",
    "    data = df.loc[item_condition, [\"delay\"]].groupby(\n",
    "        pd.cut(df[\"arrival_time\"], np.arange(0, 200, 5))).mean()\n",
    "    data.index = pd.IntervalIndex(data.index.get_level_values('arrival_time')).right\n",
    "    graphs[key] = data\n",
    "\n",
    "for key, data in graphs.items():\n",
    "    plt.plot(data)\n",
    "\n",
    "plt.ylabel('average delay per task(seconds)')\n",
    "plt.xlabel('task arrival time(seconds)')\n",
    "plt.legend(graphs.keys(), loc='upper left')"
   ]
  }
 ],
 "metadata": {
  "interpreter": {
   "hash": "6931a9a621d8ff6d07958d162f21a10a58d4e8c949ccb5bafc32b10cd7b79477"
  },
  "kernelspec": {
   "display_name": "Python 3.9.10 64-bit",
   "language": "python",
   "name": "python3"
  },
  "language_info": {
   "codemirror_mode": {
    "name": "ipython",
    "version": 3
   },
   "file_extension": ".py",
   "mimetype": "text/x-python",
   "name": "python",
   "nbconvert_exporter": "python",
   "pygments_lexer": "ipython3",
   "version": "3.9.10"
  },
  "orig_nbformat": 4
 },
 "nbformat": 4,
 "nbformat_minor": 2
}
