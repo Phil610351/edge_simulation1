{
 "cells": [
  {
   "cell_type": "code",
   "execution_count": 1,
   "metadata": {},
   "outputs": [],
   "source": [
    "from simulator.world_builds.box_worldv3 import BoxWorldv3\n",
    "from simulator.world_builds.box_worldv3 import Device\n",
    "\n",
    "import numpy as np\n",
    "import matplotlib.pyplot as plt"
   ]
  },
  {
   "cell_type": "code",
   "execution_count": 2,
   "metadata": {},
   "outputs": [
    {
     "data": {
      "text/plain": [
       "([<simulator.environment.edge_node.EdgeNode at 0x1c2c5d8b1c0>,\n",
       "  <simulator.environment.edge_node.EdgeNode at 0x1c2c5d8b520>,\n",
       "  <simulator.environment.edge_node.EdgeNode at 0x1c2c5d8b3d0>,\n",
       "  <simulator.environment.edge_node.EdgeNode at 0x1c2c5d8b430>],\n",
       " [<simulator.environment.mobile_node.MobileNode at 0x1c2c5d8ae90>,\n",
       "  <simulator.environment.mobile_node.MobileNode at 0x1c2c5d8b5b0>,\n",
       "  <simulator.environment.mobile_node.MobileNode at 0x1c2c5d8b640>,\n",
       "  <simulator.environment.mobile_node.MobileNode at 0x1c2c5d8b6d0>,\n",
       "  <simulator.environment.mobile_node.MobileNode at 0x1c2c5d8b760>,\n",
       "  <simulator.environment.mobile_node.MobileNode at 0x1c2c5d8b7f0>,\n",
       "  <simulator.environment.mobile_node.MobileNode at 0x1c2c5d8b880>,\n",
       "  <simulator.environment.mobile_node.MobileNode at 0x1c2c5d8b910>,\n",
       "  <simulator.environment.mobile_node.MobileNode at 0x1c2c5d8b9a0>,\n",
       "  <simulator.environment.mobile_node.MobileNode at 0x1c2c5d8ba30>,\n",
       "  <simulator.environment.mobile_node.MobileNode at 0x1c2c5d8bac0>,\n",
       "  <simulator.environment.mobile_node.MobileNode at 0x1c2c5d8bb50>,\n",
       "  <simulator.environment.mobile_node.MobileNode at 0x1c2c5d8bbe0>,\n",
       "  <simulator.environment.mobile_node.MobileNode at 0x1c2c5d8bc70>,\n",
       "  <simulator.environment.mobile_node.MobileNode at 0x1c2c5d8bd00>,\n",
       "  <simulator.environment.mobile_node.MobileNode at 0x1c2c5d8bd90>,\n",
       "  <simulator.environment.mobile_node.MobileNode at 0x1c2c5d8be20>,\n",
       "  <simulator.environment.mobile_node.MobileNode at 0x1c2c5d8beb0>,\n",
       "  <simulator.environment.mobile_node.MobileNode at 0x1c2c5d8bf40>,\n",
       "  <simulator.environment.mobile_node.MobileNode at 0x1c2c5d8bfa0>,\n",
       "  <simulator.environment.mobile_node.MobileNode at 0x1c2c5dc00a0>,\n",
       "  <simulator.environment.mobile_node.MobileNode at 0x1c2c5dc0130>,\n",
       "  <simulator.environment.mobile_node.MobileNode at 0x1c2c5dc01c0>,\n",
       "  <simulator.environment.mobile_node.MobileNode at 0x1c2c5dc0250>,\n",
       "  <simulator.environment.mobile_node.MobileNode at 0x1c2c5dc02e0>,\n",
       "  <simulator.environment.mobile_node.MobileNode at 0x1c2c5dc0370>,\n",
       "  <simulator.environment.mobile_node.MobileNode at 0x1c2c5dc0400>,\n",
       "  <simulator.environment.mobile_node.MobileNode at 0x1c2c5dc0490>,\n",
       "  <simulator.environment.mobile_node.MobileNode at 0x1c2c5dc0520>,\n",
       "  <simulator.environment.mobile_node.MobileNode at 0x1c2c5dc05b0>,\n",
       "  <simulator.environment.mobile_node.MobileNode at 0x1c2c5dc0640>,\n",
       "  <simulator.environment.mobile_node.MobileNode at 0x1c2c5dc06d0>,\n",
       "  <simulator.environment.mobile_node.MobileNode at 0x1c2c5dc0760>,\n",
       "  <simulator.environment.mobile_node.MobileNode at 0x1c2c5dc07f0>,\n",
       "  <simulator.environment.mobile_node.MobileNode at 0x1c2c5dc0880>,\n",
       "  <simulator.environment.mobile_node.MobileNode at 0x1c2c5dc0910>,\n",
       "  <simulator.environment.mobile_node.MobileNode at 0x1c2c5dc09a0>,\n",
       "  <simulator.environment.mobile_node.MobileNode at 0x1c2c5dc0a30>,\n",
       "  <simulator.environment.mobile_node.MobileNode at 0x1c2c5dc0ac0>,\n",
       "  <simulator.environment.mobile_node.MobileNode at 0x1c2c5dc0b50>,\n",
       "  <simulator.environment.mobile_node.MobileNode at 0x1c2c5dc0be0>,\n",
       "  <simulator.environment.mobile_node.MobileNode at 0x1c2c5dc0c70>,\n",
       "  <simulator.environment.mobile_node.MobileNode at 0x1c2c5dc0d00>,\n",
       "  <simulator.environment.mobile_node.MobileNode at 0x1c2c5dc0d90>,\n",
       "  <simulator.environment.mobile_node.MobileNode at 0x1c2c5dc0e20>,\n",
       "  <simulator.environment.mobile_node.MobileNode at 0x1c2c5dc0eb0>,\n",
       "  <simulator.environment.mobile_node.MobileNode at 0x1c28b97bac0>,\n",
       "  <simulator.environment.mobile_node.MobileNode at 0x1c2c5dc0f40>,\n",
       "  <simulator.environment.mobile_node.MobileNode at 0x1c2c5dc1000>,\n",
       "  <simulator.environment.mobile_node.MobileNode at 0x1c2c5dc1090>])"
      ]
     },
     "execution_count": 2,
     "metadata": {},
     "output_type": "execute_result"
    }
   ],
   "source": [
    "world = BoxWorldv3()\n",
    "world.build()"
   ]
  },
  {
   "cell_type": "code",
   "execution_count": 8,
   "metadata": {},
   "outputs": [
    {
     "data": {
      "image/png": "[encoded data removed]",
      "text/plain": [
       "<Figure size 432x288 with 1 Axes>"
      ]
     },
     "metadata": {
      "needs_background": "light"
     },
     "output_type": "display_data"
    }
   ],
   "source": [
    "y = [device.location[0] for device in world._edgeDevices.values()]\n",
    "x = [device.location[1] for device in world._edgeDevices.values()]\n",
    "c = [0 for device in world._edgeDevices.values()]\n",
    "plt.xlim(0, Device.WIDTH)\n",
    "plt.ylim(0, Device.HEIGHT)\n",
    "plt.scatter(x, y, s=10**2, c=c, alpha=0.5)\n",
    "plt.show()"
   ]
  }
 ],
 "metadata": {
  "kernelspec": {
   "display_name": "Python 3.10.5 64-bit",
   "language": "python",
   "name": "python3"
  },
  "language_info": {
   "codemirror_mode": {
    "name": "ipython",
    "version": 3
   },
   "file_extension": ".py",
   "mimetype": "text/x-python",
   "name": "python",
   "nbconvert_exporter": "python",
   "pygments_lexer": "ipython3",
   "version": "3.10.5"
  },
  "orig_nbformat": 4,
  "vscode": {
   "interpreter": {
    "hash": "a258a030a00aa27cc218e2c22b540d9e4bac6b115c8cb6ddd2c093a7b0a89b5a"
   }
  }
 },
 "nbformat": 4,
 "nbformat_minor": 2
}
