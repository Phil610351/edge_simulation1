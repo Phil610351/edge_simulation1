{
 "cells": [
  {
   "cell_type": "code",
   "execution_count": 9,
   "metadata": {},
   "outputs": [],
   "source": [
    "import numpy as np\n",
    "import tensorflow as tf\n",
    "import time\n",
    "from simulator.core.simulator import Simulator\n",
    "from simulator import Config\n",
    "from simulator.environment.task_environment import TaskEnvironment\n",
    "from simulator.logger import LogOutputConsolePrint, LogOutputTextFile, Logger\n",
    "from simulator.world_builds.box_world import BoxWorld\n",
    "from simulator.reporters import TransitionReporter\n",
    "from simulator.processes.task_generator import TaskGenerator\n",
    "from simulator.task_multiplexing import TaskMultiplexerSelectorDql\n",
    "from simulator.task_multiplexing import TaskMultiplexerSelectorLocal\n",
    "from simulator.task_multiplexing import TaskMultiplexerSelectorRandom\n",
    "from simulator.task_multiplexing import TaskMultiplexerSelectorRemote\n",
    "from simulator.task_multiplexing import TaskMultiplexerSelectorGreedy"
   ]
  },
  {
   "cell_type": "markdown",
   "metadata": {},
   "source": [
    "## Set simulator behaviour"
   ]
  },
  {
   "cell_type": "code",
   "execution_count": 10,
   "metadata": {},
   "outputs": [],
   "source": [
    "Logger.registerLogOutput(LogOutputConsolePrint())\n",
    "Logger.registerLogOutput(LogOutputTextFile(\"log\\log\" + str(time.time()) + \".log\"))\n",
    "np.random.seed(Config.get('random_seed'))\n",
    "tf.random.set_seed(Config.get('random_seed'))"
   ]
  },
  {
   "cell_type": "markdown",
   "metadata": {},
   "source": [
    "generate task list: this is called here to make sure all selectors receive the same list of tuples"
   ]
  },
  {
   "cell_type": "code",
   "execution_count": null,
   "metadata": {},
   "outputs": [],
   "source": [
    "TaskGenerator.retrieveList()"
   ]
  },
  {
   "cell_type": "markdown",
   "metadata": {},
   "source": [
    "## Creating an instace of Box World"
   ]
  },
  {
   "cell_type": "code",
   "execution_count": 11,
   "metadata": {},
   "outputs": [],
   "source": [
    "\n",
    "world = BoxWorld()\n",
    "edgeNodes, mobileNodes = world.build()\n",
    "edgeReward, mobileReward = world.defaultRewards()\n"
   ]
  },
  {
   "cell_type": "markdown",
   "metadata": {},
   "source": [
    "## Creating the simulator"
   ]
  },
  {
   "cell_type": "code",
   "execution_count": null,
   "metadata": {},
   "outputs": [],
   "source": [
    "simulator = Simulator()"
   ]
  },
  {
   "cell_type": "markdown",
   "metadata": {},
   "source": [
    "## Creating the reporters"
   ]
  },
  {
   "cell_type": "code",
   "execution_count": 12,
   "metadata": {},
   "outputs": [],
   "source": [
    "mobileReporter = TransitionReporter(simulator, \"pickle\") \n",
    "edgeReporter = TransitionReporter(simulator, \"pickle\") "
   ]
  },
  {
   "cell_type": "markdown",
   "metadata": {},
   "source": [
    "## Task multiplexing"
   ]
  },
  {
   "cell_type": "code",
   "execution_count": 13,
   "metadata": {},
   "outputs": [],
   "source": [
    "dqlSelectorGenerator = lambda state: TaskMultiplexerSelectorDql(state, Config.get(\"dql_training_buffer_size\"))\n",
    "localSelectorGenerator = lambda state: TaskMultiplexerSelectorLocal()\n",
    "remoteSelectorGenerator = lambda state: TaskMultiplexerSelectorRemote()\n",
    "randomSelectorGenerator = lambda state: TaskMultiplexerSelectorRandom()\n",
    "greedySelectorGenerator = lambda state: TaskMultiplexerSelectorGreedy(state)"
   ]
  },
  {
   "cell_type": "markdown",
   "metadata": {},
   "source": [
    "## Prepare and Run the Simulation"
   ]
  },
  {
   "cell_type": "markdown",
   "metadata": {},
   "source": [
    "### Both dql"
   ]
  },
  {
   "cell_type": "code",
   "execution_count": null,
   "metadata": {},
   "outputs": [],
   "source": [
    "taskEnvironment = TaskEnvironment(edgeNodes, mobileNodes, \n",
    "                                  edgeSelectorGenerator= dqlSelectorGenerator, \n",
    "                                  mobileSelectorGenerator= dqlSelectorGenerator,\n",
    "                                  edgeRewardFunction= edgeReward,\n",
    "                                  mobileRewardFunction=mobileReward)\n",
    "taskEnvironment.initialize(simulator, [mobileReporter.addTransition], [edgeReporter.addTransition])\n",
    "simulator.run()"
   ]
  },
  {
   "cell_type": "markdown",
   "metadata": {},
   "source": [
    "## Report delay"
   ]
  },
  {
   "cell_type": "code",
   "execution_count": 15,
   "metadata": {},
   "outputs": [
    {
     "name": "stdout",
     "output_type": "stream",
     "text": [
      "mobile delay: 3.024390262330601\n",
      "mobile power consumed: 0.6531383489400012\n"
     ]
    }
   ],
   "source": [
    "Logger.log(\"mobile delay: \" + str(mobileReporter.averageDelay()), 0)\n",
    "Logger.log(\"mobile power consumed: \" + str(mobileReporter.averagePowerConsumed()), 0)"
   ]
  },
  {
   "cell_type": "code",
   "execution_count": null,
   "metadata": {},
   "outputs": [],
   "source": [
    "Logger.closeLogOutputs()\n",
    "mobileReporter.pickle()"
   ]
  }
 ],
 "metadata": {
  "interpreter": {
   "hash": "6931a9a621d8ff6d07958d162f21a10a58d4e8c949ccb5bafc32b10cd7b79477"
  },
  "kernelspec": {
   "display_name": "Python 3.9.10 64-bit",
   "language": "python",
   "name": "python3"
  },
  "language_info": {
   "codemirror_mode": {
    "name": "ipython",
    "version": 3
   },
   "file_extension": ".py",
   "mimetype": "text/x-python",
   "name": "python",
   "nbconvert_exporter": "python",
   "pygments_lexer": "ipython3",
   "version": "3.9.10"
  },
  "orig_nbformat": 4
 },
 "nbformat": 4,
 "nbformat_minor": 2
}
