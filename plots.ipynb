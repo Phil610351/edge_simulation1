{
 "cells": [
  {
   "cell_type": "code",
   "execution_count": 1,
   "metadata": {},
   "outputs": [],
   "source": [
    "from simulator.reporters import TransitionReporter\n",
    "from simulator.core import Task\n",
    "import pandas as pd\n",
    "import matplotlib.pyplot as plt"
   ]
  },
  {
   "cell_type": "code",
   "execution_count": 2,
   "metadata": {},
   "outputs": [],
   "source": [
    "transitionList = TransitionReporter.getListFromPickle(\"reports/reportmobilelocal.pkl\")"
   ]
  },
  {
   "cell_type": "code",
   "execution_count": 3,
   "metadata": {},
   "outputs": [],
   "source": [
    "pandasData = []\n",
    "for item in transitionList:\n",
    "    pandasData.append([item.task.id(), item.task.arrivalTime(), item.delay, item.powerConsumtion, item.action, item.task.hopLimit()])"
   ]
  },
  {
   "cell_type": "code",
   "execution_count": 4,
   "metadata": {},
   "outputs": [
    {
     "data": {
      "text/html": [
       "<div>\n",
       "<style scoped>\n",
       "    .dataframe tbody tr th:only-of-type {\n",
       "        vertical-align: middle;\n",
       "    }\n",
       "\n",
       "    .dataframe tbody tr th {\n",
       "        vertical-align: top;\n",
       "    }\n",
       "\n",
       "    .dataframe thead th {\n",
       "        text-align: right;\n",
       "    }\n",
       "</style>\n",
       "<table border=\"1\" class=\"dataframe\">\n",
       "  <thead>\n",
       "    <tr style=\"text-align: right;\">\n",
       "      <th></th>\n",
       "      <th>taskid</th>\n",
       "      <th>arrival</th>\n",
       "      <th>delay</th>\n",
       "      <th>power</th>\n",
       "      <th>action</th>\n",
       "      <th>hopLimit</th>\n",
       "    </tr>\n",
       "  </thead>\n",
       "  <tbody>\n",
       "    <tr>\n",
       "      <th>0</th>\n",
       "      <td>1263</td>\n",
       "      <td>0.036496</td>\n",
       "      <td>1.450942</td>\n",
       "      <td>0.725471</td>\n",
       "      <td>None</td>\n",
       "      <td>2</td>\n",
       "    </tr>\n",
       "    <tr>\n",
       "      <th>1</th>\n",
       "      <td>1298</td>\n",
       "      <td>0.535088</td>\n",
       "      <td>1.160330</td>\n",
       "      <td>0.580165</td>\n",
       "      <td>None</td>\n",
       "      <td>2</td>\n",
       "    </tr>\n",
       "    <tr>\n",
       "      <th>2</th>\n",
       "      <td>1291</td>\n",
       "      <td>0.387834</td>\n",
       "      <td>1.314612</td>\n",
       "      <td>0.657306</td>\n",
       "      <td>None</td>\n",
       "      <td>2</td>\n",
       "    </tr>\n",
       "    <tr>\n",
       "      <th>3</th>\n",
       "      <td>1271</td>\n",
       "      <td>0.097895</td>\n",
       "      <td>1.746207</td>\n",
       "      <td>0.873104</td>\n",
       "      <td>None</td>\n",
       "      <td>2</td>\n",
       "    </tr>\n",
       "    <tr>\n",
       "      <th>4</th>\n",
       "      <td>1278</td>\n",
       "      <td>0.159688</td>\n",
       "      <td>1.704330</td>\n",
       "      <td>0.852165</td>\n",
       "      <td>None</td>\n",
       "      <td>2</td>\n",
       "    </tr>\n",
       "    <tr>\n",
       "      <th>...</th>\n",
       "      <td>...</td>\n",
       "      <td>...</td>\n",
       "      <td>...</td>\n",
       "      <td>...</td>\n",
       "      <td>...</td>\n",
       "      <td>...</td>\n",
       "    </tr>\n",
       "    <tr>\n",
       "      <th>4980</th>\n",
       "      <td>6098</td>\n",
       "      <td>96.659711</td>\n",
       "      <td>114.071737</td>\n",
       "      <td>0.759168</td>\n",
       "      <td>None</td>\n",
       "      <td>2</td>\n",
       "    </tr>\n",
       "    <tr>\n",
       "      <th>4981</th>\n",
       "      <td>6061</td>\n",
       "      <td>96.060000</td>\n",
       "      <td>117.373997</td>\n",
       "      <td>1.527716</td>\n",
       "      <td>None</td>\n",
       "      <td>2</td>\n",
       "    </tr>\n",
       "    <tr>\n",
       "      <th>4982</th>\n",
       "      <td>6119</td>\n",
       "      <td>97.046033</td>\n",
       "      <td>116.408649</td>\n",
       "      <td>1.361617</td>\n",
       "      <td>None</td>\n",
       "      <td>2</td>\n",
       "    </tr>\n",
       "    <tr>\n",
       "      <th>4983</th>\n",
       "      <td>6102</td>\n",
       "      <td>96.689745</td>\n",
       "      <td>120.601331</td>\n",
       "      <td>1.928539</td>\n",
       "      <td>None</td>\n",
       "      <td>2</td>\n",
       "    </tr>\n",
       "    <tr>\n",
       "      <th>4984</th>\n",
       "      <td>6203</td>\n",
       "      <td>98.991618</td>\n",
       "      <td>119.860829</td>\n",
       "      <td>0.780686</td>\n",
       "      <td>None</td>\n",
       "      <td>2</td>\n",
       "    </tr>\n",
       "  </tbody>\n",
       "</table>\n",
       "<p>4985 rows × 6 columns</p>\n",
       "</div>"
      ],
      "text/plain": [
       "      taskid    arrival       delay     power action  hopLimit\n",
       "0       1263   0.036496    1.450942  0.725471   None         2\n",
       "1       1298   0.535088    1.160330  0.580165   None         2\n",
       "2       1291   0.387834    1.314612  0.657306   None         2\n",
       "3       1271   0.097895    1.746207  0.873104   None         2\n",
       "4       1278   0.159688    1.704330  0.852165   None         2\n",
       "...      ...        ...         ...       ...    ...       ...\n",
       "4980    6098  96.659711  114.071737  0.759168   None         2\n",
       "4981    6061  96.060000  117.373997  1.527716   None         2\n",
       "4982    6119  97.046033  116.408649  1.361617   None         2\n",
       "4983    6102  96.689745  120.601331  1.928539   None         2\n",
       "4984    6203  98.991618  119.860829  0.780686   None         2\n",
       "\n",
       "[4985 rows x 6 columns]"
      ]
     },
     "execution_count": 4,
     "metadata": {},
     "output_type": "execute_result"
    }
   ],
   "source": [
    "data = pd.DataFrame(pandasData, columns = [\"taskid\", \"arrival\", \"delay\", \"power\", \"action\", \"hopLimit\"])\n",
    "data"
   ]
  },
  {
   "cell_type": "code",
   "execution_count": 6,
   "metadata": {},
   "outputs": [
    {
     "data": {
      "text/plain": [
       "[<matplotlib.lines.Line2D at 0x27a81db9e80>]"
      ]
     },
     "execution_count": 6,
     "metadata": {},
     "output_type": "execute_result"
    },
    {
     "data": {
      "image/png": "[encoded data removed]",
      "text/plain": [
       "<Figure size 432x288 with 1 Axes>"
      ]
     },
     "metadata": {
      "needs_background": "light"
     },
     "output_type": "display_data"
    }
   ],
   "source": [
    "plt.plot(data[2])"
   ]
  }
 ],
 "metadata": {
  "interpreter": {
   "hash": "6931a9a621d8ff6d07958d162f21a10a58d4e8c949ccb5bafc32b10cd7b79477"
  },
  "kernelspec": {
   "display_name": "Python 3.9.10 64-bit",
   "language": "python",
   "name": "python3"
  },
  "language_info": {
   "codemirror_mode": {
    "name": "ipython",
    "version": 3
   },
   "file_extension": ".py",
   "mimetype": "text/x-python",
   "name": "python",
   "nbconvert_exporter": "python",
   "pygments_lexer": "ipython3",
   "version": "3.9.10"
  },
  "orig_nbformat": 4
 },
 "nbformat": 4,
 "nbformat_minor": 2
}
