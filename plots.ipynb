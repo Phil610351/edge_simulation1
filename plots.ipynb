{
 "cells": [
  {
   "cell_type": "code",
   "execution_count": 167,
   "metadata": {},
   "outputs": [],
   "source": [
    "from simulator.reporters import TransitionReporter\n",
    "from simulator.core import Task\n",
    "import pandas as pd\n",
    "import matplotlib.pyplot as plt\n",
    "import numpy as np"
   ]
  },
  {
   "cell_type": "code",
   "execution_count": 168,
   "metadata": {},
   "outputs": [],
   "source": [
    "reportList = [TransitionReporter.getListFromPickle(\"reports/reportmobiledql2.pkl\"), \n",
    "              TransitionReporter.getListFromPickle(\"reports/reportmobilegreedy3.pkl\"), \n",
    "              TransitionReporter.getListFromPickle(\"reports/reportmobileremote.pkl\"), \n",
    "              TransitionReporter.getListFromPickle(\"reports/reportmobilelocal.pkl\")]"
   ]
  },
  {
   "cell_type": "code",
   "execution_count": 169,
   "metadata": {},
   "outputs": [],
   "source": [
    "pandasData = []\n",
    "for report in reportList:\n",
    "    pandasList = []\n",
    "    for item in report:\n",
    "        pandasList.append([item.task.id(), item.task.arrivalTime(), item.delay, item.powerConsumtion, item.action, item.task.hopLimit()])\n",
    "    pandasData.append(pandasList)"
   ]
  },
  {
   "cell_type": "code",
   "execution_count": 170,
   "metadata": {},
   "outputs": [
    {
     "data": {
      "text/html": [
       "<div>\n",
       "<style scoped>\n",
       "    .dataframe tbody tr th:only-of-type {\n",
       "        vertical-align: middle;\n",
       "    }\n",
       "\n",
       "    .dataframe tbody tr th {\n",
       "        vertical-align: top;\n",
       "    }\n",
       "\n",
       "    .dataframe thead th {\n",
       "        text-align: right;\n",
       "    }\n",
       "</style>\n",
       "<table border=\"1\" class=\"dataframe\">\n",
       "  <thead>\n",
       "    <tr style=\"text-align: right;\">\n",
       "      <th></th>\n",
       "      <th>taskid</th>\n",
       "      <th>arrival</th>\n",
       "      <th>delay</th>\n",
       "      <th>power</th>\n",
       "      <th>action</th>\n",
       "      <th>hopLimit</th>\n",
       "    </tr>\n",
       "  </thead>\n",
       "  <tbody>\n",
       "    <tr>\n",
       "      <th>0</th>\n",
       "      <td>1268</td>\n",
       "      <td>0.121763</td>\n",
       "      <td>1.313020</td>\n",
       "      <td>0.656510</td>\n",
       "      <td>(0, (), ())</td>\n",
       "      <td>2</td>\n",
       "    </tr>\n",
       "    <tr>\n",
       "      <th>1</th>\n",
       "      <td>1292</td>\n",
       "      <td>0.555738</td>\n",
       "      <td>1.033880</td>\n",
       "      <td>0.028954</td>\n",
       "      <td>(1, (), ())</td>\n",
       "      <td>0</td>\n",
       "    </tr>\n",
       "    <tr>\n",
       "      <th>2</th>\n",
       "      <td>1273</td>\n",
       "      <td>0.246070</td>\n",
       "      <td>1.370956</td>\n",
       "      <td>0.685478</td>\n",
       "      <td>(0, (), ())</td>\n",
       "      <td>2</td>\n",
       "    </tr>\n",
       "    <tr>\n",
       "      <th>3</th>\n",
       "      <td>1265</td>\n",
       "      <td>0.111330</td>\n",
       "      <td>1.577082</td>\n",
       "      <td>0.788541</td>\n",
       "      <td>(0, (), ())</td>\n",
       "      <td>2</td>\n",
       "    </tr>\n",
       "    <tr>\n",
       "      <th>4</th>\n",
       "      <td>1263</td>\n",
       "      <td>0.043346</td>\n",
       "      <td>1.651238</td>\n",
       "      <td>0.825619</td>\n",
       "      <td>(0, (), ())</td>\n",
       "      <td>2</td>\n",
       "    </tr>\n",
       "    <tr>\n",
       "      <th>...</th>\n",
       "      <td>...</td>\n",
       "      <td>...</td>\n",
       "      <td>...</td>\n",
       "      <td>...</td>\n",
       "      <td>...</td>\n",
       "      <td>...</td>\n",
       "    </tr>\n",
       "    <tr>\n",
       "      <th>9935</th>\n",
       "      <td>11198</td>\n",
       "      <td>199.883452</td>\n",
       "      <td>5.264961</td>\n",
       "      <td>0.076680</td>\n",
       "      <td>(1, (), ())</td>\n",
       "      <td>1</td>\n",
       "    </tr>\n",
       "    <tr>\n",
       "      <th>9936</th>\n",
       "      <td>11150</td>\n",
       "      <td>198.774781</td>\n",
       "      <td>6.780376</td>\n",
       "      <td>0.071616</td>\n",
       "      <td>(1, (), ())</td>\n",
       "      <td>1</td>\n",
       "    </tr>\n",
       "    <tr>\n",
       "      <th>9937</th>\n",
       "      <td>11108</td>\n",
       "      <td>197.877659</td>\n",
       "      <td>8.392338</td>\n",
       "      <td>0.118691</td>\n",
       "      <td>(1, (), ())</td>\n",
       "      <td>1</td>\n",
       "    </tr>\n",
       "    <tr>\n",
       "      <th>9938</th>\n",
       "      <td>11121</td>\n",
       "      <td>198.107174</td>\n",
       "      <td>8.602263</td>\n",
       "      <td>2.387910</td>\n",
       "      <td>(0, (), ())</td>\n",
       "      <td>2</td>\n",
       "    </tr>\n",
       "    <tr>\n",
       "      <th>9939</th>\n",
       "      <td>11195</td>\n",
       "      <td>199.802249</td>\n",
       "      <td>8.357562</td>\n",
       "      <td>2.867050</td>\n",
       "      <td>(0, (), ())</td>\n",
       "      <td>2</td>\n",
       "    </tr>\n",
       "  </tbody>\n",
       "</table>\n",
       "<p>9940 rows × 6 columns</p>\n",
       "</div>"
      ],
      "text/plain": [
       "      taskid     arrival     delay     power       action  hopLimit\n",
       "0       1268    0.121763  1.313020  0.656510  (0, (), ())         2\n",
       "1       1292    0.555738  1.033880  0.028954  (1, (), ())         0\n",
       "2       1273    0.246070  1.370956  0.685478  (0, (), ())         2\n",
       "3       1265    0.111330  1.577082  0.788541  (0, (), ())         2\n",
       "4       1263    0.043346  1.651238  0.825619  (0, (), ())         2\n",
       "...      ...         ...       ...       ...          ...       ...\n",
       "9935   11198  199.883452  5.264961  0.076680  (1, (), ())         1\n",
       "9936   11150  198.774781  6.780376  0.071616  (1, (), ())         1\n",
       "9937   11108  197.877659  8.392338  0.118691  (1, (), ())         1\n",
       "9938   11121  198.107174  8.602263  2.387910  (0, (), ())         2\n",
       "9939   11195  199.802249  8.357562  2.867050  (0, (), ())         2\n",
       "\n",
       "[9940 rows x 6 columns]"
      ]
     },
     "execution_count": 170,
     "metadata": {},
     "output_type": "execute_result"
    }
   ],
   "source": [
    "dfList = []\n",
    "for list in pandasData:\n",
    "    dfList.append(pd.DataFrame(list, columns = [\"taskid\", \"arrival\", \"delay\", \"power\", \"action\", \"hopLimit\"]))\n",
    "dfList[0]"
   ]
  },
  {
   "cell_type": "code",
   "execution_count": 171,
   "metadata": {},
   "outputs": [],
   "source": [
    "dfCuts = []\n",
    "for df in dfList:\n",
    "    data = df.loc[:, [\"delay\"]].groupby(\n",
    "        pd.cut(df[\"arrival\"], np.arange(0, 200, 1))).mean()\n",
    "    data.index = pd.IntervalIndex(data.index.get_level_values('arrival')).right\n",
    "    dfCuts.append(data)"
   ]
  },
  {
   "cell_type": "code",
   "execution_count": 172,
   "metadata": {},
   "outputs": [
    {
     "data": {
      "image/png": "[encoded data removed]",
      "text/plain": [
       "<Figure size 432x288 with 1 Axes>"
      ]
     },
     "metadata": {
      "needs_background": "light"
     },
     "output_type": "display_data"
    }
   ],
   "source": [
    "\n",
    "for data in dfCuts:\n",
    "    plt.plot(data)\n"
   ]
  }
 ],
 "metadata": {
  "interpreter": {
   "hash": "6931a9a621d8ff6d07958d162f21a10a58d4e8c949ccb5bafc32b10cd7b79477"
  },
  "kernelspec": {
   "display_name": "Python 3.9.10 64-bit",
   "language": "python",
   "name": "python3"
  },
  "language_info": {
   "codemirror_mode": {
    "name": "ipython",
    "version": 3
   },
   "file_extension": ".py",
   "mimetype": "text/x-python",
   "name": "python",
   "nbconvert_exporter": "python",
   "pygments_lexer": "ipython3",
   "version": "3.9.10"
  },
  "orig_nbformat": 4
 },
 "nbformat": 4,
 "nbformat_minor": 2
}
